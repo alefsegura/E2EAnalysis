{
 "cells": [
  {
   "cell_type": "code",
   "execution_count": 1,
   "metadata": {},
   "outputs": [],
   "source": [
    "import numpy as np\n",
    "import pandas as pd"
   ]
  },
  {
   "cell_type": "markdown",
   "metadata": {},
   "source": [
    "Assumindo que uma casa não sevira ao mesmo tempo como inicio ou fim de uma cobra e início ou fim de uma escada"
   ]
  },
  {
   "cell_type": "code",
   "execution_count": 2,
   "metadata": {},
   "outputs": [],
   "source": [
    "class Game:\n",
    "    \n",
    "    def __init__(self, n_players, snakes, ladders):\n",
    "        self.n_players = n_players\n",
    "        self.snakes = snakes\n",
    "        self.ladders = ladders\n",
    "        return\n",
    "    \n",
    "    def dice(self):\n",
    "        return np.random.randint(1,7)\n",
    "    \n",
    "    def play(self, mod=False, start=None, imunity=False):\n",
    "        if start==None:\n",
    "            self.players = np.ones(self.n_players, int)            \n",
    "        else:\n",
    "            self.players = start\n",
    "\n",
    "        self.winner_ = None\n",
    "        self.snakes_landed_ = 0\n",
    "        self.ladders_taken_ = 0\n",
    "        self.imunity = imunity\n",
    "        \n",
    "        turns = 0\n",
    "        while(self.winner_==None):\n",
    "            number = self.dice()\n",
    "            player = turns%self.n_players\n",
    "            self.movement(player, number, mod)            \n",
    "            turns += 1\n",
    "        #print('Player {} won in #{} turn | {} snakes landed and {} ladders taken'.format(self.winner_,turns,self.snakes_landed_,self.ladders_taken_))\n",
    "        self.turns_ = turns\n",
    "            \n",
    "            \n",
    "    def movement(self, player, number, mod=False):\n",
    "        casa_atual = self.players[player]\n",
    "        casa_atual += number           \n",
    "\n",
    "        if mod:\n",
    "            for l in self.ladders:\n",
    "                if casa_atual == l[0] and np.random.randint(1,11)>5:\n",
    "                    casa_atual = l[1]\n",
    "                    self.ladders_taken_ += 1\n",
    "                    break\n",
    "\n",
    "            for s in self.snakes:\n",
    "                if casa_atual == s[0] and np.random.randint(1,11)>5:\n",
    "                    casa_atual = s[1]\n",
    "                    self.snakes_landed_ += 1\n",
    "                    break\n",
    "                    \n",
    "        else:\n",
    "            for l in self.ladders:\n",
    "                if casa_atual == l[0]:\n",
    "                    casa_atual = l[1]\n",
    "                    self.ladders_taken_ += 1\n",
    "                    break\n",
    "\n",
    "            if player==0:                \n",
    "                for s in self.snakes:\n",
    "                    if casa_atual == s[0]:\n",
    "                        casa_atual = s[1]\n",
    "                        self.snakes_landed_ += 1\n",
    "                        break\n",
    "            else:\n",
    "                for s in self.snakes:\n",
    "                    if casa_atual == s[0] and self.imunity:\n",
    "                        casa_atual = s[1]\n",
    "                        self.snakes_landed_ += 1\n",
    "                        self.imunity = False\n",
    "                        break\n",
    "                \n",
    "        if casa_atual >= 36:\n",
    "            casa_atual = 36\n",
    "            self.winner_ = player\n",
    "        \n",
    "        self.players[player] = casa_atual"
   ]
  },
  {
   "cell_type": "markdown",
   "metadata": {},
   "source": [
    "## Simulações"
   ]
  },
  {
   "cell_type": "code",
   "execution_count": 3,
   "metadata": {},
   "outputs": [],
   "source": [
    "snakes = [(12,2),(14,11),(17,4),(31,19),(35,22)]\n",
    "ladders = [(3,16),(5,7),(15,25),(18,20),(21,32)]\n",
    "game = Game(2, snakes, ladders)"
   ]
  },
  {
   "cell_type": "markdown",
   "metadata": {},
   "source": [
    "### Tradicional"
   ]
  },
  {
   "cell_type": "code",
   "execution_count": 4,
   "metadata": {
    "scrolled": true
   },
   "outputs": [],
   "source": [
    "games = []\n",
    "for i in range(10000):\n",
    "    game.play()\n",
    "    games.append({'snakes_landed': game.snakes_landed_,\n",
    "                  'ladders_taken': game.ladders_taken_,\n",
    "                  'turns': game.turns_,\n",
    "                  'winner': game.winner_})\n",
    "pd.DataFrame(games).to_csv('game_results12.csv', index=False)"
   ]
  },
  {
   "cell_type": "markdown",
   "metadata": {},
   "source": [
    "### 50% de chance de pegar o desvio"
   ]
  },
  {
   "cell_type": "code",
   "execution_count": 5,
   "metadata": {
    "scrolled": false
   },
   "outputs": [],
   "source": [
    "games = []\n",
    "for i in range(10000):\n",
    "    game.play(True)\n",
    "    games.append({'snakes_landed': game.snakes_landed_,\n",
    "                  'ladders_taken': game.ladders_taken_,\n",
    "                  'turns': game.turns_,\n",
    "                  'winner': game.winner_})\n",
    "pd.DataFrame(games).to_csv('game_results3.csv', index=False)"
   ]
  },
  {
   "cell_type": "markdown",
   "metadata": {},
   "source": [
    "### Changin the start square of player 2"
   ]
  },
  {
   "cell_type": "code",
   "execution_count": 6,
   "metadata": {
    "scrolled": false
   },
   "outputs": [],
   "source": [
    "games = []\n",
    "for j in range(36):\n",
    "    for i in range(10000):\n",
    "        game.play(start=[1,j+1])\n",
    "        games.append({'snakes_landed': game.snakes_landed_,\n",
    "                      'ladders_taken': game.ladders_taken_,\n",
    "                      'turns': game.turns_,\n",
    "                      'winner': game.winner_,\n",
    "                      '2nd_player_square_start':j+1})\n",
    "pd.DataFrame(games).to_csv('game_results4.csv', index=False)"
   ]
  },
  {
   "cell_type": "markdown",
   "metadata": {},
   "source": [
    "### Givin imunity"
   ]
  },
  {
   "cell_type": "code",
   "execution_count": 7,
   "metadata": {
    "scrolled": false
   },
   "outputs": [],
   "source": [
    "games = []\n",
    "for i in range(10000):\n",
    "    game.play(imunity=True)\n",
    "    games.append({'snakes_landed': game.snakes_landed_,\n",
    "                  'ladders_taken': game.ladders_taken_,\n",
    "                  'turns': game.turns_,\n",
    "                  'winner': game.winner_})\n",
    "pd.DataFrame(games).to_csv('game_results5.csv', index=False)"
   ]
  }
 ],
 "metadata": {
  "kernelspec": {
   "display_name": "Python 3",
   "language": "python",
   "name": "python3"
  },
  "language_info": {
   "codemirror_mode": {
    "name": "ipython",
    "version": 3
   },
   "file_extension": ".py",
   "mimetype": "text/x-python",
   "name": "python",
   "nbconvert_exporter": "python",
   "pygments_lexer": "ipython3",
   "version": "3.6.8"
  }
 },
 "nbformat": 4,
 "nbformat_minor": 2
}
